{
 "cells": [
  {
   "cell_type": "markdown",
   "metadata": {},
   "source": [
    "# Race Distribution of East Palo Alto"
   ]
  },
  {
   "cell_type": "markdown",
   "metadata": {},
   "source": [
    "The following visualizations display the distribution of different races in East Palo Alto. Our main focus was to understand the different communities that our design for green infrastructure and stormwater management would impact. The data was collected from the US Census Bureau."
   ]
  },
  {
   "cell_type": "code",
   "execution_count": null,
   "metadata": {},
   "outputs": [],
   "source": [
    "import pandas as pd\n",
    "import numpy as np\n",
    "import matplotlib.pyplot as plt\n",
    "import seaborn as sns\n",
    "import plotly.graph_objects as go\n",
    "import plotly.express as px"
   ]
  },
  {
   "cell_type": "code",
   "execution_count": 4,
   "metadata": {},
   "outputs": [
    {
     "data": {
      "text/html": [
       "<div>\n",
       "<style scoped>\n",
       "    .dataframe tbody tr th:only-of-type {\n",
       "        vertical-align: middle;\n",
       "    }\n",
       "\n",
       "    .dataframe tbody tr th {\n",
       "        vertical-align: top;\n",
       "    }\n",
       "\n",
       "    .dataframe thead th {\n",
       "        text-align: right;\n",
       "    }\n",
       "</style>\n",
       "<table border=\"1\" class=\"dataframe\">\n",
       "  <thead>\n",
       "    <tr style=\"text-align: right;\">\n",
       "      <th></th>\n",
       "      <th>Race</th>\n",
       "      <th>Count</th>\n",
       "      <th>ME</th>\n",
       "    </tr>\n",
       "  </thead>\n",
       "  <tbody>\n",
       "    <tr>\n",
       "      <th>0</th>\n",
       "      <td>White (White)</td>\n",
       "      <td>6805</td>\n",
       "      <td>1347</td>\n",
       "    </tr>\n",
       "    <tr>\n",
       "      <th>1</th>\n",
       "      <td>Black / African American (Black / African Amer...</td>\n",
       "      <td>3544</td>\n",
       "      <td>556</td>\n",
       "    </tr>\n",
       "    <tr>\n",
       "      <th>2</th>\n",
       "      <td>Aztec (American Indian and Alaska Native)</td>\n",
       "      <td>716</td>\n",
       "      <td>593</td>\n",
       "    </tr>\n",
       "    <tr>\n",
       "      <th>3</th>\n",
       "      <td>Blackfeet Tribe of the Blackfeet Indian Reserv...</td>\n",
       "      <td>0</td>\n",
       "      <td>25</td>\n",
       "    </tr>\n",
       "    <tr>\n",
       "      <th>4</th>\n",
       "      <td>Maya (American Indian and Alaska Native)</td>\n",
       "      <td>245</td>\n",
       "      <td>201</td>\n",
       "    </tr>\n",
       "    <tr>\n",
       "      <th>5</th>\n",
       "      <td>Native Village of Barrow Inupiat Traditional G...</td>\n",
       "      <td>0</td>\n",
       "      <td>25</td>\n",
       "    </tr>\n",
       "    <tr>\n",
       "      <th>6</th>\n",
       "      <td>Navajo Nation (American Indian and Alaska Native)</td>\n",
       "      <td>0</td>\n",
       "      <td>25</td>\n",
       "    </tr>\n",
       "    <tr>\n",
       "      <th>7</th>\n",
       "      <td>Nome Eskimo Community (American Indian and Ala...</td>\n",
       "      <td>0</td>\n",
       "      <td>25</td>\n",
       "    </tr>\n",
       "    <tr>\n",
       "      <th>8</th>\n",
       "      <td>Other American Indian and Alaska Native (Ameri...</td>\n",
       "      <td>243</td>\n",
       "      <td>176</td>\n",
       "    </tr>\n",
       "    <tr>\n",
       "      <th>9</th>\n",
       "      <td>Indian (Asian)</td>\n",
       "      <td>414</td>\n",
       "      <td>244</td>\n",
       "    </tr>\n",
       "    <tr>\n",
       "      <th>10</th>\n",
       "      <td>Chinese (Asian)</td>\n",
       "      <td>451</td>\n",
       "      <td>255</td>\n",
       "    </tr>\n",
       "    <tr>\n",
       "      <th>11</th>\n",
       "      <td>Filipino (Asian)</td>\n",
       "      <td>403</td>\n",
       "      <td>277</td>\n",
       "    </tr>\n",
       "    <tr>\n",
       "      <th>12</th>\n",
       "      <td>Japanese (Asian)</td>\n",
       "      <td>41</td>\n",
       "      <td>52</td>\n",
       "    </tr>\n",
       "    <tr>\n",
       "      <th>13</th>\n",
       "      <td>Korean (Asian)</td>\n",
       "      <td>109</td>\n",
       "      <td>125</td>\n",
       "    </tr>\n",
       "    <tr>\n",
       "      <th>14</th>\n",
       "      <td>Vietnamese (Asian)</td>\n",
       "      <td>210</td>\n",
       "      <td>240</td>\n",
       "    </tr>\n",
       "    <tr>\n",
       "      <th>15</th>\n",
       "      <td>Other Asian (Asian)</td>\n",
       "      <td>65</td>\n",
       "      <td>77</td>\n",
       "    </tr>\n",
       "    <tr>\n",
       "      <th>16</th>\n",
       "      <td>Chamorro (Native Hawaiian Race)</td>\n",
       "      <td>0</td>\n",
       "      <td>25</td>\n",
       "    </tr>\n",
       "    <tr>\n",
       "      <th>17</th>\n",
       "      <td>Native Hawaiian (Native Hawaiian Race)</td>\n",
       "      <td>3</td>\n",
       "      <td>14</td>\n",
       "    </tr>\n",
       "    <tr>\n",
       "      <th>18</th>\n",
       "      <td>Samoan (Native Hawaiian Race)</td>\n",
       "      <td>74</td>\n",
       "      <td>83</td>\n",
       "    </tr>\n",
       "    <tr>\n",
       "      <th>19</th>\n",
       "      <td>Other Native Hawaiian and Other Pacific Island...</td>\n",
       "      <td>1241</td>\n",
       "      <td>630</td>\n",
       "    </tr>\n",
       "    <tr>\n",
       "      <th>20</th>\n",
       "      <td>Mexican (Hispanic or Latino)</td>\n",
       "      <td>14722</td>\n",
       "      <td>1358</td>\n",
       "    </tr>\n",
       "    <tr>\n",
       "      <th>21</th>\n",
       "      <td>Puerto Rican (Hispanic or Latino)</td>\n",
       "      <td>14</td>\n",
       "      <td>34</td>\n",
       "    </tr>\n",
       "    <tr>\n",
       "      <th>22</th>\n",
       "      <td>Cuban (Hispanic or Latino)</td>\n",
       "      <td>95</td>\n",
       "      <td>166</td>\n",
       "    </tr>\n",
       "    <tr>\n",
       "      <th>23</th>\n",
       "      <td>Other Hispanic or Latino (Hispanic or Latino)</td>\n",
       "      <td>3273</td>\n",
       "      <td>824</td>\n",
       "    </tr>\n",
       "  </tbody>\n",
       "</table>\n",
       "</div>"
      ],
      "text/plain": [
       "                                                 Race  Count    ME\n",
       "0                                       White (White)   6805  1347\n",
       "1   Black / African American (Black / African Amer...   3544   556\n",
       "2           Aztec (American Indian and Alaska Native)    716   593\n",
       "3   Blackfeet Tribe of the Blackfeet Indian Reserv...      0    25\n",
       "4            Maya (American Indian and Alaska Native)    245   201\n",
       "5   Native Village of Barrow Inupiat Traditional G...      0    25\n",
       "6   Navajo Nation (American Indian and Alaska Native)      0    25\n",
       "7   Nome Eskimo Community (American Indian and Ala...      0    25\n",
       "8   Other American Indian and Alaska Native (Ameri...    243   176\n",
       "9                                      Indian (Asian)    414   244\n",
       "10                                    Chinese (Asian)    451   255\n",
       "11                                   Filipino (Asian)    403   277\n",
       "12                                   Japanese (Asian)     41    52\n",
       "13                                     Korean (Asian)    109   125\n",
       "14                                 Vietnamese (Asian)    210   240\n",
       "15                                Other Asian (Asian)     65    77\n",
       "16                    Chamorro (Native Hawaiian Race)      0    25\n",
       "17             Native Hawaiian (Native Hawaiian Race)      3    14\n",
       "18                      Samoan (Native Hawaiian Race)     74    83\n",
       "19  Other Native Hawaiian and Other Pacific Island...   1241   630\n",
       "20                       Mexican (Hispanic or Latino)  14722  1358\n",
       "21                  Puerto Rican (Hispanic or Latino)     14    34\n",
       "22                         Cuban (Hispanic or Latino)     95   166\n",
       "23      Other Hispanic or Latino (Hispanic or Latino)   3273   824"
      ]
     },
     "execution_count": 4,
     "metadata": {},
     "output_type": "execute_result"
    }
   ],
   "source": [
    "race_file = \"../data/race.csv\"\n",
    "race_df = pd.read_csv(race_file)\n",
    "race_df"
   ]
  },
  {
   "cell_type": "code",
   "execution_count": 5,
   "metadata": {},
   "outputs": [],
   "source": [
    "def extract_ethnicity(df):\n",
    "    df['Ethnicity'] = df['Race'].str.extract(r'\\((.*?)\\)', expand=False)\n",
    "    return df"
   ]
  },
  {
   "cell_type": "code",
   "execution_count": 6,
   "metadata": {},
   "outputs": [
    {
     "data": {
      "text/html": [
       "<div>\n",
       "<style scoped>\n",
       "    .dataframe tbody tr th:only-of-type {\n",
       "        vertical-align: middle;\n",
       "    }\n",
       "\n",
       "    .dataframe tbody tr th {\n",
       "        vertical-align: top;\n",
       "    }\n",
       "\n",
       "    .dataframe thead th {\n",
       "        text-align: right;\n",
       "    }\n",
       "</style>\n",
       "<table border=\"1\" class=\"dataframe\">\n",
       "  <thead>\n",
       "    <tr style=\"text-align: right;\">\n",
       "      <th></th>\n",
       "      <th>Ethnicity</th>\n",
       "      <th>Count</th>\n",
       "      <th>ME</th>\n",
       "    </tr>\n",
       "  </thead>\n",
       "  <tbody>\n",
       "    <tr>\n",
       "      <th>0</th>\n",
       "      <td>American Indian and Alaska Native</td>\n",
       "      <td>1204</td>\n",
       "      <td>1070</td>\n",
       "    </tr>\n",
       "    <tr>\n",
       "      <th>1</th>\n",
       "      <td>Asian</td>\n",
       "      <td>1693</td>\n",
       "      <td>1270</td>\n",
       "    </tr>\n",
       "    <tr>\n",
       "      <th>2</th>\n",
       "      <td>Black / African American</td>\n",
       "      <td>3544</td>\n",
       "      <td>556</td>\n",
       "    </tr>\n",
       "    <tr>\n",
       "      <th>3</th>\n",
       "      <td>Hispanic or Latino</td>\n",
       "      <td>18104</td>\n",
       "      <td>2382</td>\n",
       "    </tr>\n",
       "    <tr>\n",
       "      <th>4</th>\n",
       "      <td>Native Hawaiian</td>\n",
       "      <td>1318</td>\n",
       "      <td>752</td>\n",
       "    </tr>\n",
       "    <tr>\n",
       "      <th>5</th>\n",
       "      <td>White</td>\n",
       "      <td>6805</td>\n",
       "      <td>1347</td>\n",
       "    </tr>\n",
       "  </tbody>\n",
       "</table>\n",
       "</div>"
      ],
      "text/plain": [
       "                           Ethnicity  Count    ME\n",
       "0  American Indian and Alaska Native   1204  1070\n",
       "1                              Asian   1693  1270\n",
       "2           Black / African American   3544   556\n",
       "3                 Hispanic or Latino  18104  2382\n",
       "4                   Native Hawaiian    1318   752\n",
       "5                              White   6805  1347"
      ]
     },
     "execution_count": 6,
     "metadata": {},
     "output_type": "execute_result"
    }
   ],
   "source": [
    "# group by ethnicity\n",
    "ethnicity_df = extract_ethnicity(race_df).groupby('Ethnicity').sum('Count').reset_index()\n",
    "ethnicity_df['Ethnicity'] = ethnicity_df['Ethnicity'].str.replace('Race','')\n",
    "ethnicity_df"
   ]
  },
  {
   "cell_type": "code",
   "execution_count": 7,
   "metadata": {},
   "outputs": [],
   "source": [
    "def drop_ethnicity(df):\n",
    "    df['Race'] = df['Race'].str.replace(r'\\s*\\(.*?\\)\\s*', '', regex=True)\n",
    "    return df"
   ]
  },
  {
   "cell_type": "code",
   "execution_count": 8,
   "metadata": {},
   "outputs": [
    {
     "data": {
      "text/html": [
       "<div>\n",
       "<style scoped>\n",
       "    .dataframe tbody tr th:only-of-type {\n",
       "        vertical-align: middle;\n",
       "    }\n",
       "\n",
       "    .dataframe tbody tr th {\n",
       "        vertical-align: top;\n",
       "    }\n",
       "\n",
       "    .dataframe thead th {\n",
       "        text-align: right;\n",
       "    }\n",
       "</style>\n",
       "<table border=\"1\" class=\"dataframe\">\n",
       "  <thead>\n",
       "    <tr style=\"text-align: right;\">\n",
       "      <th></th>\n",
       "      <th>Race</th>\n",
       "      <th>Count</th>\n",
       "      <th>ME</th>\n",
       "      <th>Ethnicity</th>\n",
       "    </tr>\n",
       "  </thead>\n",
       "  <tbody>\n",
       "    <tr>\n",
       "      <th>0</th>\n",
       "      <td>White</td>\n",
       "      <td>6805</td>\n",
       "      <td>1347</td>\n",
       "      <td>White</td>\n",
       "    </tr>\n",
       "    <tr>\n",
       "      <th>1</th>\n",
       "      <td>Black / African American</td>\n",
       "      <td>3544</td>\n",
       "      <td>556</td>\n",
       "      <td>Black / African American</td>\n",
       "    </tr>\n",
       "    <tr>\n",
       "      <th>2</th>\n",
       "      <td>Aztec</td>\n",
       "      <td>716</td>\n",
       "      <td>593</td>\n",
       "      <td>American Indian and Alaska Native</td>\n",
       "    </tr>\n",
       "    <tr>\n",
       "      <th>3</th>\n",
       "      <td>Blackfeet Tribe of the Blackfeet Indian Reserv...</td>\n",
       "      <td>0</td>\n",
       "      <td>25</td>\n",
       "      <td>American Indian and Alaska Native</td>\n",
       "    </tr>\n",
       "    <tr>\n",
       "      <th>4</th>\n",
       "      <td>Maya</td>\n",
       "      <td>245</td>\n",
       "      <td>201</td>\n",
       "      <td>American Indian and Alaska Native</td>\n",
       "    </tr>\n",
       "    <tr>\n",
       "      <th>5</th>\n",
       "      <td>Native Village of Barrow Inupiat Traditional G...</td>\n",
       "      <td>0</td>\n",
       "      <td>25</td>\n",
       "      <td>American Indian and Alaska Native</td>\n",
       "    </tr>\n",
       "    <tr>\n",
       "      <th>6</th>\n",
       "      <td>Navajo Nation</td>\n",
       "      <td>0</td>\n",
       "      <td>25</td>\n",
       "      <td>American Indian and Alaska Native</td>\n",
       "    </tr>\n",
       "    <tr>\n",
       "      <th>7</th>\n",
       "      <td>Nome Eskimo Community</td>\n",
       "      <td>0</td>\n",
       "      <td>25</td>\n",
       "      <td>American Indian and Alaska Native</td>\n",
       "    </tr>\n",
       "    <tr>\n",
       "      <th>8</th>\n",
       "      <td>Other American Indian and Alaska Native</td>\n",
       "      <td>243</td>\n",
       "      <td>176</td>\n",
       "      <td>American Indian and Alaska Native</td>\n",
       "    </tr>\n",
       "    <tr>\n",
       "      <th>9</th>\n",
       "      <td>Indian</td>\n",
       "      <td>414</td>\n",
       "      <td>244</td>\n",
       "      <td>Asian</td>\n",
       "    </tr>\n",
       "    <tr>\n",
       "      <th>10</th>\n",
       "      <td>Chinese</td>\n",
       "      <td>451</td>\n",
       "      <td>255</td>\n",
       "      <td>Asian</td>\n",
       "    </tr>\n",
       "    <tr>\n",
       "      <th>11</th>\n",
       "      <td>Filipino</td>\n",
       "      <td>403</td>\n",
       "      <td>277</td>\n",
       "      <td>Asian</td>\n",
       "    </tr>\n",
       "    <tr>\n",
       "      <th>12</th>\n",
       "      <td>Japanese</td>\n",
       "      <td>41</td>\n",
       "      <td>52</td>\n",
       "      <td>Asian</td>\n",
       "    </tr>\n",
       "    <tr>\n",
       "      <th>13</th>\n",
       "      <td>Korean</td>\n",
       "      <td>109</td>\n",
       "      <td>125</td>\n",
       "      <td>Asian</td>\n",
       "    </tr>\n",
       "    <tr>\n",
       "      <th>14</th>\n",
       "      <td>Vietnamese</td>\n",
       "      <td>210</td>\n",
       "      <td>240</td>\n",
       "      <td>Asian</td>\n",
       "    </tr>\n",
       "    <tr>\n",
       "      <th>15</th>\n",
       "      <td>Other Asian</td>\n",
       "      <td>65</td>\n",
       "      <td>77</td>\n",
       "      <td>Asian</td>\n",
       "    </tr>\n",
       "    <tr>\n",
       "      <th>16</th>\n",
       "      <td>Chamorro</td>\n",
       "      <td>0</td>\n",
       "      <td>25</td>\n",
       "      <td>Native Hawaiian Race</td>\n",
       "    </tr>\n",
       "    <tr>\n",
       "      <th>17</th>\n",
       "      <td>Native Hawaiian</td>\n",
       "      <td>3</td>\n",
       "      <td>14</td>\n",
       "      <td>Native Hawaiian Race</td>\n",
       "    </tr>\n",
       "    <tr>\n",
       "      <th>18</th>\n",
       "      <td>Samoan</td>\n",
       "      <td>74</td>\n",
       "      <td>83</td>\n",
       "      <td>Native Hawaiian Race</td>\n",
       "    </tr>\n",
       "    <tr>\n",
       "      <th>19</th>\n",
       "      <td>Other Native Hawaiian and Other Pacific Islander</td>\n",
       "      <td>1241</td>\n",
       "      <td>630</td>\n",
       "      <td>Native Hawaiian Race</td>\n",
       "    </tr>\n",
       "    <tr>\n",
       "      <th>20</th>\n",
       "      <td>Mexican</td>\n",
       "      <td>14722</td>\n",
       "      <td>1358</td>\n",
       "      <td>Hispanic or Latino</td>\n",
       "    </tr>\n",
       "    <tr>\n",
       "      <th>21</th>\n",
       "      <td>Puerto Rican</td>\n",
       "      <td>14</td>\n",
       "      <td>34</td>\n",
       "      <td>Hispanic or Latino</td>\n",
       "    </tr>\n",
       "    <tr>\n",
       "      <th>22</th>\n",
       "      <td>Cuban</td>\n",
       "      <td>95</td>\n",
       "      <td>166</td>\n",
       "      <td>Hispanic or Latino</td>\n",
       "    </tr>\n",
       "    <tr>\n",
       "      <th>23</th>\n",
       "      <td>Other Hispanic or Latino</td>\n",
       "      <td>3273</td>\n",
       "      <td>824</td>\n",
       "      <td>Hispanic or Latino</td>\n",
       "    </tr>\n",
       "  </tbody>\n",
       "</table>\n",
       "</div>"
      ],
      "text/plain": [
       "                                                 Race  Count    ME  \\\n",
       "0                                               White   6805  1347   \n",
       "1                            Black / African American   3544   556   \n",
       "2                                               Aztec    716   593   \n",
       "3   Blackfeet Tribe of the Blackfeet Indian Reserv...      0    25   \n",
       "4                                                Maya    245   201   \n",
       "5   Native Village of Barrow Inupiat Traditional G...      0    25   \n",
       "6                                       Navajo Nation      0    25   \n",
       "7                               Nome Eskimo Community      0    25   \n",
       "8             Other American Indian and Alaska Native    243   176   \n",
       "9                                              Indian    414   244   \n",
       "10                                            Chinese    451   255   \n",
       "11                                           Filipino    403   277   \n",
       "12                                           Japanese     41    52   \n",
       "13                                             Korean    109   125   \n",
       "14                                         Vietnamese    210   240   \n",
       "15                                        Other Asian     65    77   \n",
       "16                                           Chamorro      0    25   \n",
       "17                                    Native Hawaiian      3    14   \n",
       "18                                             Samoan     74    83   \n",
       "19   Other Native Hawaiian and Other Pacific Islander   1241   630   \n",
       "20                                            Mexican  14722  1358   \n",
       "21                                       Puerto Rican     14    34   \n",
       "22                                              Cuban     95   166   \n",
       "23                           Other Hispanic or Latino   3273   824   \n",
       "\n",
       "                            Ethnicity  \n",
       "0                               White  \n",
       "1            Black / African American  \n",
       "2   American Indian and Alaska Native  \n",
       "3   American Indian and Alaska Native  \n",
       "4   American Indian and Alaska Native  \n",
       "5   American Indian and Alaska Native  \n",
       "6   American Indian and Alaska Native  \n",
       "7   American Indian and Alaska Native  \n",
       "8   American Indian and Alaska Native  \n",
       "9                               Asian  \n",
       "10                              Asian  \n",
       "11                              Asian  \n",
       "12                              Asian  \n",
       "13                              Asian  \n",
       "14                              Asian  \n",
       "15                              Asian  \n",
       "16               Native Hawaiian Race  \n",
       "17               Native Hawaiian Race  \n",
       "18               Native Hawaiian Race  \n",
       "19               Native Hawaiian Race  \n",
       "20                 Hispanic or Latino  \n",
       "21                 Hispanic or Latino  \n",
       "22                 Hispanic or Latino  \n",
       "23                 Hispanic or Latino  "
      ]
     },
     "execution_count": 8,
     "metadata": {},
     "output_type": "execute_result"
    }
   ],
   "source": [
    "# drop the ethnicity in race column\n",
    "race_cleaned = drop_ethnicity(race_df)\n",
    "race_cleaned"
   ]
  },
  {
   "cell_type": "code",
   "execution_count": 16,
   "metadata": {},
   "outputs": [
    {
     "data": {
      "text/html": [
       "<div>\n",
       "<style scoped>\n",
       "    .dataframe tbody tr th:only-of-type {\n",
       "        vertical-align: middle;\n",
       "    }\n",
       "\n",
       "    .dataframe tbody tr th {\n",
       "        vertical-align: top;\n",
       "    }\n",
       "\n",
       "    .dataframe thead th {\n",
       "        text-align: right;\n",
       "    }\n",
       "</style>\n",
       "<table border=\"1\" class=\"dataframe\">\n",
       "  <thead>\n",
       "    <tr style=\"text-align: right;\">\n",
       "      <th></th>\n",
       "      <th>Race</th>\n",
       "      <th>Race Count</th>\n",
       "      <th>Ethnicity</th>\n",
       "      <th>Ethnicity Count</th>\n",
       "    </tr>\n",
       "  </thead>\n",
       "  <tbody>\n",
       "    <tr>\n",
       "      <th>0</th>\n",
       "      <td>White</td>\n",
       "      <td>6805</td>\n",
       "      <td>White</td>\n",
       "      <td>6805</td>\n",
       "    </tr>\n",
       "    <tr>\n",
       "      <th>1</th>\n",
       "      <td>Black / African American</td>\n",
       "      <td>3544</td>\n",
       "      <td>Black / African American</td>\n",
       "      <td>3544</td>\n",
       "    </tr>\n",
       "    <tr>\n",
       "      <th>2</th>\n",
       "      <td>Aztec</td>\n",
       "      <td>716</td>\n",
       "      <td>American Indian and Alaska Native</td>\n",
       "      <td>1204</td>\n",
       "    </tr>\n",
       "    <tr>\n",
       "      <th>3</th>\n",
       "      <td>Blackfeet Tribe of the Blackfeet Indian Reserv...</td>\n",
       "      <td>0</td>\n",
       "      <td>American Indian and Alaska Native</td>\n",
       "      <td>1204</td>\n",
       "    </tr>\n",
       "    <tr>\n",
       "      <th>4</th>\n",
       "      <td>Maya</td>\n",
       "      <td>245</td>\n",
       "      <td>American Indian and Alaska Native</td>\n",
       "      <td>1204</td>\n",
       "    </tr>\n",
       "    <tr>\n",
       "      <th>5</th>\n",
       "      <td>Native Village of Barrow Inupiat Traditional G...</td>\n",
       "      <td>0</td>\n",
       "      <td>American Indian and Alaska Native</td>\n",
       "      <td>1204</td>\n",
       "    </tr>\n",
       "    <tr>\n",
       "      <th>6</th>\n",
       "      <td>Navajo Nation</td>\n",
       "      <td>0</td>\n",
       "      <td>American Indian and Alaska Native</td>\n",
       "      <td>1204</td>\n",
       "    </tr>\n",
       "    <tr>\n",
       "      <th>7</th>\n",
       "      <td>Nome Eskimo Community</td>\n",
       "      <td>0</td>\n",
       "      <td>American Indian and Alaska Native</td>\n",
       "      <td>1204</td>\n",
       "    </tr>\n",
       "    <tr>\n",
       "      <th>8</th>\n",
       "      <td>Other American Indian and Alaska Native</td>\n",
       "      <td>243</td>\n",
       "      <td>American Indian and Alaska Native</td>\n",
       "      <td>1204</td>\n",
       "    </tr>\n",
       "    <tr>\n",
       "      <th>9</th>\n",
       "      <td>Indian</td>\n",
       "      <td>414</td>\n",
       "      <td>Asian</td>\n",
       "      <td>1693</td>\n",
       "    </tr>\n",
       "    <tr>\n",
       "      <th>10</th>\n",
       "      <td>Chinese</td>\n",
       "      <td>451</td>\n",
       "      <td>Asian</td>\n",
       "      <td>1693</td>\n",
       "    </tr>\n",
       "    <tr>\n",
       "      <th>11</th>\n",
       "      <td>Filipino</td>\n",
       "      <td>403</td>\n",
       "      <td>Asian</td>\n",
       "      <td>1693</td>\n",
       "    </tr>\n",
       "    <tr>\n",
       "      <th>12</th>\n",
       "      <td>Japanese</td>\n",
       "      <td>41</td>\n",
       "      <td>Asian</td>\n",
       "      <td>1693</td>\n",
       "    </tr>\n",
       "    <tr>\n",
       "      <th>13</th>\n",
       "      <td>Korean</td>\n",
       "      <td>109</td>\n",
       "      <td>Asian</td>\n",
       "      <td>1693</td>\n",
       "    </tr>\n",
       "    <tr>\n",
       "      <th>14</th>\n",
       "      <td>Vietnamese</td>\n",
       "      <td>210</td>\n",
       "      <td>Asian</td>\n",
       "      <td>1693</td>\n",
       "    </tr>\n",
       "    <tr>\n",
       "      <th>15</th>\n",
       "      <td>Other Asian</td>\n",
       "      <td>65</td>\n",
       "      <td>Asian</td>\n",
       "      <td>1693</td>\n",
       "    </tr>\n",
       "    <tr>\n",
       "      <th>16</th>\n",
       "      <td>Mexican</td>\n",
       "      <td>14722</td>\n",
       "      <td>Hispanic or Latino</td>\n",
       "      <td>18104</td>\n",
       "    </tr>\n",
       "    <tr>\n",
       "      <th>17</th>\n",
       "      <td>Puerto Rican</td>\n",
       "      <td>14</td>\n",
       "      <td>Hispanic or Latino</td>\n",
       "      <td>18104</td>\n",
       "    </tr>\n",
       "    <tr>\n",
       "      <th>18</th>\n",
       "      <td>Cuban</td>\n",
       "      <td>95</td>\n",
       "      <td>Hispanic or Latino</td>\n",
       "      <td>18104</td>\n",
       "    </tr>\n",
       "    <tr>\n",
       "      <th>19</th>\n",
       "      <td>Other Hispanic or Latino</td>\n",
       "      <td>3273</td>\n",
       "      <td>Hispanic or Latino</td>\n",
       "      <td>18104</td>\n",
       "    </tr>\n",
       "  </tbody>\n",
       "</table>\n",
       "</div>"
      ],
      "text/plain": [
       "                                                 Race  Race Count  \\\n",
       "0                                               White        6805   \n",
       "1                            Black / African American        3544   \n",
       "2                                               Aztec         716   \n",
       "3   Blackfeet Tribe of the Blackfeet Indian Reserv...           0   \n",
       "4                                                Maya         245   \n",
       "5   Native Village of Barrow Inupiat Traditional G...           0   \n",
       "6                                       Navajo Nation           0   \n",
       "7                               Nome Eskimo Community           0   \n",
       "8             Other American Indian and Alaska Native         243   \n",
       "9                                              Indian         414   \n",
       "10                                            Chinese         451   \n",
       "11                                           Filipino         403   \n",
       "12                                           Japanese          41   \n",
       "13                                             Korean         109   \n",
       "14                                         Vietnamese         210   \n",
       "15                                        Other Asian          65   \n",
       "16                                            Mexican       14722   \n",
       "17                                       Puerto Rican          14   \n",
       "18                                              Cuban          95   \n",
       "19                           Other Hispanic or Latino        3273   \n",
       "\n",
       "                            Ethnicity  Ethnicity Count  \n",
       "0                               White             6805  \n",
       "1            Black / African American             3544  \n",
       "2   American Indian and Alaska Native             1204  \n",
       "3   American Indian and Alaska Native             1204  \n",
       "4   American Indian and Alaska Native             1204  \n",
       "5   American Indian and Alaska Native             1204  \n",
       "6   American Indian and Alaska Native             1204  \n",
       "7   American Indian and Alaska Native             1204  \n",
       "8   American Indian and Alaska Native             1204  \n",
       "9                               Asian             1693  \n",
       "10                              Asian             1693  \n",
       "11                              Asian             1693  \n",
       "12                              Asian             1693  \n",
       "13                              Asian             1693  \n",
       "14                              Asian             1693  \n",
       "15                              Asian             1693  \n",
       "16                 Hispanic or Latino            18104  \n",
       "17                 Hispanic or Latino            18104  \n",
       "18                 Hispanic or Latino            18104  \n",
       "19                 Hispanic or Latino            18104  "
      ]
     },
     "execution_count": 16,
     "metadata": {},
     "output_type": "execute_result"
    }
   ],
   "source": [
    "merged_df = race_cleaned.merge(ethnicity_df, on=\"Ethnicity\")\n",
    "merged_df = merged_df.drop([\"ME_x\", \"ME_y\"], axis=1)\n",
    "merged_df = merged_df.rename(columns={\"Count_x\": \"Race Count\", \"Count_y\": \"Ethnicity Count\"})\n",
    "merged_df"
   ]
  },
  {
   "cell_type": "code",
   "execution_count": 47,
   "metadata": {},
   "outputs": [
    {
     "data": {
      "application/vnd.plotly.v1+json": {
       "config": {
        "plotlyServerURL": "https://plot.ly"
       },
       "data": [
        {
         "branchvalues": "total",
         "domain": {
          "x": [
           0,
           1
          ],
          "y": [
           0,
           1
          ]
         },
         "hovertemplate": "labels=%{label}<br>Race Count=%{value}<br>parent=%{parent}<br>id=%{id}<extra></extra>",
         "ids": [
          "American Indian and Alaska Native/Aztec",
          "Black / African American/Black / African American",
          "American Indian and Alaska Native/Blackfeet Tribe of the Blackfeet Indian Reservation of Montana",
          "Asian/Chinese",
          "Hispanic or Latino/Cuban",
          "Asian/Filipino",
          "Asian/Indian",
          "Asian/Japanese",
          "Asian/Korean",
          "American Indian and Alaska Native/Maya",
          "Hispanic or Latino/Mexican",
          "American Indian and Alaska Native/Native Village of Barrow Inupiat Traditional Government",
          "American Indian and Alaska Native/Navajo Nation",
          "American Indian and Alaska Native/Nome Eskimo Community",
          "American Indian and Alaska Native/Other American Indian and Alaska Native",
          "Asian/Other Asian",
          "Hispanic or Latino/Other Hispanic or Latino",
          "Hispanic or Latino/Puerto Rican",
          "Asian/Vietnamese",
          "White/White",
          "American Indian and Alaska Native",
          "Asian",
          "Black / African American",
          "Hispanic or Latino",
          "White"
         ],
         "labels": [
          "Aztec",
          "Black / African American",
          "Blackfeet Tribe of the Blackfeet Indian Reservation of Montana",
          "Chinese",
          "Cuban",
          "Filipino",
          "Indian",
          "Japanese",
          "Korean",
          "Maya",
          "Mexican",
          "Native Village of Barrow Inupiat Traditional Government",
          "Navajo Nation",
          "Nome Eskimo Community",
          "Other American Indian and Alaska Native",
          "Other Asian",
          "Other Hispanic or Latino",
          "Puerto Rican",
          "Vietnamese",
          "White",
          "American Indian and Alaska Native",
          "Asian",
          "Black / African American",
          "Hispanic or Latino",
          "White"
         ],
         "name": "",
         "parents": [
          "American Indian and Alaska Native",
          "Black / African American",
          "American Indian and Alaska Native",
          "Asian",
          "Hispanic or Latino",
          "Asian",
          "Asian",
          "Asian",
          "Asian",
          "American Indian and Alaska Native",
          "Hispanic or Latino",
          "American Indian and Alaska Native",
          "American Indian and Alaska Native",
          "American Indian and Alaska Native",
          "American Indian and Alaska Native",
          "Asian",
          "Hispanic or Latino",
          "Hispanic or Latino",
          "Asian",
          "White",
          "",
          "",
          "",
          "",
          ""
         ],
         "type": "sunburst",
         "values": [
          716,
          3544,
          0,
          451,
          95,
          403,
          414,
          41,
          109,
          245,
          14722,
          0,
          0,
          0,
          243,
          65,
          3273,
          14,
          210,
          6805,
          1204,
          1693,
          3544,
          18104,
          6805
         ]
        }
       ],
       "layout": {
        "height": 800,
        "legend": {
         "tracegroupgap": 0
        },
        "sunburstcolorway": [
         "rgb(27,158,119)",
         "rgb(217,95,2)",
         "rgb(117,112,179)",
         "rgb(231,41,138)",
         "rgb(102,166,30)",
         "rgb(230,171,2)",
         "rgb(166,118,29)",
         "rgb(102,102,102)"
        ],
        "template": {
         "data": {
          "bar": [
           {
            "error_x": {
             "color": "#2a3f5f"
            },
            "error_y": {
             "color": "#2a3f5f"
            },
            "marker": {
             "line": {
              "color": "#E5ECF6",
              "width": 0.5
             },
             "pattern": {
              "fillmode": "overlay",
              "size": 10,
              "solidity": 0.2
             }
            },
            "type": "bar"
           }
          ],
          "barpolar": [
           {
            "marker": {
             "line": {
              "color": "#E5ECF6",
              "width": 0.5
             },
             "pattern": {
              "fillmode": "overlay",
              "size": 10,
              "solidity": 0.2
             }
            },
            "type": "barpolar"
           }
          ],
          "carpet": [
           {
            "aaxis": {
             "endlinecolor": "#2a3f5f",
             "gridcolor": "white",
             "linecolor": "white",
             "minorgridcolor": "white",
             "startlinecolor": "#2a3f5f"
            },
            "baxis": {
             "endlinecolor": "#2a3f5f",
             "gridcolor": "white",
             "linecolor": "white",
             "minorgridcolor": "white",
             "startlinecolor": "#2a3f5f"
            },
            "type": "carpet"
           }
          ],
          "choropleth": [
           {
            "colorbar": {
             "outlinewidth": 0,
             "ticks": ""
            },
            "type": "choropleth"
           }
          ],
          "contour": [
           {
            "colorbar": {
             "outlinewidth": 0,
             "ticks": ""
            },
            "colorscale": [
             [
              0,
              "#0d0887"
             ],
             [
              0.1111111111111111,
              "#46039f"
             ],
             [
              0.2222222222222222,
              "#7201a8"
             ],
             [
              0.3333333333333333,
              "#9c179e"
             ],
             [
              0.4444444444444444,
              "#bd3786"
             ],
             [
              0.5555555555555556,
              "#d8576b"
             ],
             [
              0.6666666666666666,
              "#ed7953"
             ],
             [
              0.7777777777777778,
              "#fb9f3a"
             ],
             [
              0.8888888888888888,
              "#fdca26"
             ],
             [
              1,
              "#f0f921"
             ]
            ],
            "type": "contour"
           }
          ],
          "contourcarpet": [
           {
            "colorbar": {
             "outlinewidth": 0,
             "ticks": ""
            },
            "type": "contourcarpet"
           }
          ],
          "heatmap": [
           {
            "colorbar": {
             "outlinewidth": 0,
             "ticks": ""
            },
            "colorscale": [
             [
              0,
              "#0d0887"
             ],
             [
              0.1111111111111111,
              "#46039f"
             ],
             [
              0.2222222222222222,
              "#7201a8"
             ],
             [
              0.3333333333333333,
              "#9c179e"
             ],
             [
              0.4444444444444444,
              "#bd3786"
             ],
             [
              0.5555555555555556,
              "#d8576b"
             ],
             [
              0.6666666666666666,
              "#ed7953"
             ],
             [
              0.7777777777777778,
              "#fb9f3a"
             ],
             [
              0.8888888888888888,
              "#fdca26"
             ],
             [
              1,
              "#f0f921"
             ]
            ],
            "type": "heatmap"
           }
          ],
          "heatmapgl": [
           {
            "colorbar": {
             "outlinewidth": 0,
             "ticks": ""
            },
            "colorscale": [
             [
              0,
              "#0d0887"
             ],
             [
              0.1111111111111111,
              "#46039f"
             ],
             [
              0.2222222222222222,
              "#7201a8"
             ],
             [
              0.3333333333333333,
              "#9c179e"
             ],
             [
              0.4444444444444444,
              "#bd3786"
             ],
             [
              0.5555555555555556,
              "#d8576b"
             ],
             [
              0.6666666666666666,
              "#ed7953"
             ],
             [
              0.7777777777777778,
              "#fb9f3a"
             ],
             [
              0.8888888888888888,
              "#fdca26"
             ],
             [
              1,
              "#f0f921"
             ]
            ],
            "type": "heatmapgl"
           }
          ],
          "histogram": [
           {
            "marker": {
             "pattern": {
              "fillmode": "overlay",
              "size": 10,
              "solidity": 0.2
             }
            },
            "type": "histogram"
           }
          ],
          "histogram2d": [
           {
            "colorbar": {
             "outlinewidth": 0,
             "ticks": ""
            },
            "colorscale": [
             [
              0,
              "#0d0887"
             ],
             [
              0.1111111111111111,
              "#46039f"
             ],
             [
              0.2222222222222222,
              "#7201a8"
             ],
             [
              0.3333333333333333,
              "#9c179e"
             ],
             [
              0.4444444444444444,
              "#bd3786"
             ],
             [
              0.5555555555555556,
              "#d8576b"
             ],
             [
              0.6666666666666666,
              "#ed7953"
             ],
             [
              0.7777777777777778,
              "#fb9f3a"
             ],
             [
              0.8888888888888888,
              "#fdca26"
             ],
             [
              1,
              "#f0f921"
             ]
            ],
            "type": "histogram2d"
           }
          ],
          "histogram2dcontour": [
           {
            "colorbar": {
             "outlinewidth": 0,
             "ticks": ""
            },
            "colorscale": [
             [
              0,
              "#0d0887"
             ],
             [
              0.1111111111111111,
              "#46039f"
             ],
             [
              0.2222222222222222,
              "#7201a8"
             ],
             [
              0.3333333333333333,
              "#9c179e"
             ],
             [
              0.4444444444444444,
              "#bd3786"
             ],
             [
              0.5555555555555556,
              "#d8576b"
             ],
             [
              0.6666666666666666,
              "#ed7953"
             ],
             [
              0.7777777777777778,
              "#fb9f3a"
             ],
             [
              0.8888888888888888,
              "#fdca26"
             ],
             [
              1,
              "#f0f921"
             ]
            ],
            "type": "histogram2dcontour"
           }
          ],
          "mesh3d": [
           {
            "colorbar": {
             "outlinewidth": 0,
             "ticks": ""
            },
            "type": "mesh3d"
           }
          ],
          "parcoords": [
           {
            "line": {
             "colorbar": {
              "outlinewidth": 0,
              "ticks": ""
             }
            },
            "type": "parcoords"
           }
          ],
          "pie": [
           {
            "automargin": true,
            "type": "pie"
           }
          ],
          "scatter": [
           {
            "fillpattern": {
             "fillmode": "overlay",
             "size": 10,
             "solidity": 0.2
            },
            "type": "scatter"
           }
          ],
          "scatter3d": [
           {
            "line": {
             "colorbar": {
              "outlinewidth": 0,
              "ticks": ""
             }
            },
            "marker": {
             "colorbar": {
              "outlinewidth": 0,
              "ticks": ""
             }
            },
            "type": "scatter3d"
           }
          ],
          "scattercarpet": [
           {
            "marker": {
             "colorbar": {
              "outlinewidth": 0,
              "ticks": ""
             }
            },
            "type": "scattercarpet"
           }
          ],
          "scattergeo": [
           {
            "marker": {
             "colorbar": {
              "outlinewidth": 0,
              "ticks": ""
             }
            },
            "type": "scattergeo"
           }
          ],
          "scattergl": [
           {
            "marker": {
             "colorbar": {
              "outlinewidth": 0,
              "ticks": ""
             }
            },
            "type": "scattergl"
           }
          ],
          "scattermapbox": [
           {
            "marker": {
             "colorbar": {
              "outlinewidth": 0,
              "ticks": ""
             }
            },
            "type": "scattermapbox"
           }
          ],
          "scatterpolar": [
           {
            "marker": {
             "colorbar": {
              "outlinewidth": 0,
              "ticks": ""
             }
            },
            "type": "scatterpolar"
           }
          ],
          "scatterpolargl": [
           {
            "marker": {
             "colorbar": {
              "outlinewidth": 0,
              "ticks": ""
             }
            },
            "type": "scatterpolargl"
           }
          ],
          "scatterternary": [
           {
            "marker": {
             "colorbar": {
              "outlinewidth": 0,
              "ticks": ""
             }
            },
            "type": "scatterternary"
           }
          ],
          "surface": [
           {
            "colorbar": {
             "outlinewidth": 0,
             "ticks": ""
            },
            "colorscale": [
             [
              0,
              "#0d0887"
             ],
             [
              0.1111111111111111,
              "#46039f"
             ],
             [
              0.2222222222222222,
              "#7201a8"
             ],
             [
              0.3333333333333333,
              "#9c179e"
             ],
             [
              0.4444444444444444,
              "#bd3786"
             ],
             [
              0.5555555555555556,
              "#d8576b"
             ],
             [
              0.6666666666666666,
              "#ed7953"
             ],
             [
              0.7777777777777778,
              "#fb9f3a"
             ],
             [
              0.8888888888888888,
              "#fdca26"
             ],
             [
              1,
              "#f0f921"
             ]
            ],
            "type": "surface"
           }
          ],
          "table": [
           {
            "cells": {
             "fill": {
              "color": "#EBF0F8"
             },
             "line": {
              "color": "white"
             }
            },
            "header": {
             "fill": {
              "color": "#C8D4E3"
             },
             "line": {
              "color": "white"
             }
            },
            "type": "table"
           }
          ]
         },
         "layout": {
          "annotationdefaults": {
           "arrowcolor": "#2a3f5f",
           "arrowhead": 0,
           "arrowwidth": 1
          },
          "autotypenumbers": "strict",
          "coloraxis": {
           "colorbar": {
            "outlinewidth": 0,
            "ticks": ""
           }
          },
          "colorscale": {
           "diverging": [
            [
             0,
             "#8e0152"
            ],
            [
             0.1,
             "#c51b7d"
            ],
            [
             0.2,
             "#de77ae"
            ],
            [
             0.3,
             "#f1b6da"
            ],
            [
             0.4,
             "#fde0ef"
            ],
            [
             0.5,
             "#f7f7f7"
            ],
            [
             0.6,
             "#e6f5d0"
            ],
            [
             0.7,
             "#b8e186"
            ],
            [
             0.8,
             "#7fbc41"
            ],
            [
             0.9,
             "#4d9221"
            ],
            [
             1,
             "#276419"
            ]
           ],
           "sequential": [
            [
             0,
             "#0d0887"
            ],
            [
             0.1111111111111111,
             "#46039f"
            ],
            [
             0.2222222222222222,
             "#7201a8"
            ],
            [
             0.3333333333333333,
             "#9c179e"
            ],
            [
             0.4444444444444444,
             "#bd3786"
            ],
            [
             0.5555555555555556,
             "#d8576b"
            ],
            [
             0.6666666666666666,
             "#ed7953"
            ],
            [
             0.7777777777777778,
             "#fb9f3a"
            ],
            [
             0.8888888888888888,
             "#fdca26"
            ],
            [
             1,
             "#f0f921"
            ]
           ],
           "sequentialminus": [
            [
             0,
             "#0d0887"
            ],
            [
             0.1111111111111111,
             "#46039f"
            ],
            [
             0.2222222222222222,
             "#7201a8"
            ],
            [
             0.3333333333333333,
             "#9c179e"
            ],
            [
             0.4444444444444444,
             "#bd3786"
            ],
            [
             0.5555555555555556,
             "#d8576b"
            ],
            [
             0.6666666666666666,
             "#ed7953"
            ],
            [
             0.7777777777777778,
             "#fb9f3a"
            ],
            [
             0.8888888888888888,
             "#fdca26"
            ],
            [
             1,
             "#f0f921"
            ]
           ]
          },
          "colorway": [
           "#636efa",
           "#EF553B",
           "#00cc96",
           "#ab63fa",
           "#FFA15A",
           "#19d3f3",
           "#FF6692",
           "#B6E880",
           "#FF97FF",
           "#FECB52"
          ],
          "font": {
           "color": "#2a3f5f"
          },
          "geo": {
           "bgcolor": "white",
           "lakecolor": "white",
           "landcolor": "#E5ECF6",
           "showlakes": true,
           "showland": true,
           "subunitcolor": "white"
          },
          "hoverlabel": {
           "align": "left"
          },
          "hovermode": "closest",
          "mapbox": {
           "style": "light"
          },
          "paper_bgcolor": "white",
          "plot_bgcolor": "#E5ECF6",
          "polar": {
           "angularaxis": {
            "gridcolor": "white",
            "linecolor": "white",
            "ticks": ""
           },
           "bgcolor": "#E5ECF6",
           "radialaxis": {
            "gridcolor": "white",
            "linecolor": "white",
            "ticks": ""
           }
          },
          "scene": {
           "xaxis": {
            "backgroundcolor": "#E5ECF6",
            "gridcolor": "white",
            "gridwidth": 2,
            "linecolor": "white",
            "showbackground": true,
            "ticks": "",
            "zerolinecolor": "white"
           },
           "yaxis": {
            "backgroundcolor": "#E5ECF6",
            "gridcolor": "white",
            "gridwidth": 2,
            "linecolor": "white",
            "showbackground": true,
            "ticks": "",
            "zerolinecolor": "white"
           },
           "zaxis": {
            "backgroundcolor": "#E5ECF6",
            "gridcolor": "white",
            "gridwidth": 2,
            "linecolor": "white",
            "showbackground": true,
            "ticks": "",
            "zerolinecolor": "white"
           }
          },
          "shapedefaults": {
           "line": {
            "color": "#2a3f5f"
           }
          },
          "ternary": {
           "aaxis": {
            "gridcolor": "white",
            "linecolor": "white",
            "ticks": ""
           },
           "baxis": {
            "gridcolor": "white",
            "linecolor": "white",
            "ticks": ""
           },
           "bgcolor": "#E5ECF6",
           "caxis": {
            "gridcolor": "white",
            "linecolor": "white",
            "ticks": ""
           }
          },
          "title": {
           "x": 0.05
          },
          "xaxis": {
           "automargin": true,
           "gridcolor": "white",
           "linecolor": "white",
           "ticks": "",
           "title": {
            "standoff": 15
           },
           "zerolinecolor": "white",
           "zerolinewidth": 2
          },
          "yaxis": {
           "automargin": true,
           "gridcolor": "white",
           "linecolor": "white",
           "ticks": "",
           "title": {
            "standoff": 15
           },
           "zerolinecolor": "white",
           "zerolinewidth": 2
          }
         }
        },
        "title": {
         "text": "Race and Ethnicity Distribution"
        },
        "width": 800
       }
      }
     },
     "metadata": {},
     "output_type": "display_data"
    }
   ],
   "source": [
    "sunburst = px.sunburst(\n",
    "    merged_df,\n",
    "    path=['Ethnicity', 'Race'],\n",
    "    values='Race Count',\n",
    "    title='Race and Ethnicity Distribution',\n",
    "    color_discrete_sequence=px.colors.qualitative.Dark2\n",
    ")\n",
    "\n",
    "sunburst.update_layout(\n",
    "    width=800,  \n",
    "    height=800  \n",
    ")\n",
    "\n",
    "sunburst.show()"
   ]
  },
  {
   "cell_type": "code",
   "execution_count": 53,
   "metadata": {},
   "outputs": [],
   "source": [
    "# create dfs for each ethnicity\n",
    "def create_eth_df(df, ethnicity):\n",
    "    eth_df =  df[df['Ethnicity'] == ethnicity]\n",
    "    return eth_df"
   ]
  },
  {
   "cell_type": "code",
   "execution_count": null,
   "metadata": {},
   "outputs": [
    {
     "name": "stderr",
     "output_type": "stream",
     "text": [
      "/var/folders/jz/tmg5mxd9661fqkvv1hfktc6w0000gn/T/ipykernel_20694/1149316339.py:11: UserWarning:\n",
      "\n",
      "FigureCanvasAgg is non-interactive, and thus cannot be shown\n",
      "\n"
     ]
    },
    {
     "data": {
      "image/png": "[encoded data removed]",
      "text/plain": [
       "<Figure size 640x480 with 1 Axes>"
      ]
     },
     "metadata": {},
     "output_type": "display_data"
    }
   ],
   "source": [
    "# center white to make it a donut\n",
    "center_white = plt.Circle( (0,0), 0.7, color='white')\n",
    "\n",
    "# asian chart\n",
    "asian_df = create_eth_df(merged_df, 'Asian')\n",
    "asian_colors = ['#eb4c9d', '#ef70b1', '#f181ba', '#f393c4', '#f5a4ce', '#f7b6d7', '#f9c8e1', '#fbd9ea']\n",
    "asian_pie = plt.pie(asian_df['Race Count'], labels=asian_df['Race'], colors=asian_colors, autopct='%1.1f%%', startangle=140)\n",
    "asian_plt = plt.gcf()\n",
    "asian_plt.gca().add_artist(center_white)\n",
    "\n",
    "asian_plt.show()"
   ]
  },
  {
   "cell_type": "code",
   "execution_count": 83,
   "metadata": {},
   "outputs": [
    {
     "name": "stderr",
     "output_type": "stream",
     "text": [
      "/var/folders/jz/tmg5mxd9661fqkvv1hfktc6w0000gn/T/ipykernel_20694/3657917690.py:10: UserWarning:\n",
      "\n",
      "FigureCanvasAgg is non-interactive, and thus cannot be shown\n",
      "\n"
     ]
    },
    {
     "data": {
      "image/png": "[encoded data removed]",
      "text/plain": [
       "<Figure size 640x480 with 1 Axes>"
      ]
     },
     "metadata": {},
     "output_type": "display_data"
    }
   ],
   "source": [
    "# american indian chart\n",
    "indig_df = create_eth_df(merged_df, 'American Indian and Alaska Native')\n",
    "indig_df = indig_df[indig_df['Race Count'] > 0]\n",
    "indig_colors = ['#8edb38', '#a1e159', '#b4e77a', '#c6ed9b']\n",
    "indig_pie = plt.pie(indig_df['Race Count'], labels=indig_df['Race'], colors=indig_colors, autopct='%1.1f%%', startangle=140)\n",
    "indig_plt = plt.gcf()\n",
    "center_white = plt.Circle( (0,0), 0.7, color='white')\n",
    "indig_plt.gca().add_artist(center_white)\n",
    "\n",
    "indig_plt.show()"
   ]
  },
  {
   "cell_type": "code",
   "execution_count": null,
   "metadata": {},
   "outputs": [],
   "source": []
  }
 ],
 "metadata": {
  "kernelspec": {
   "display_name": "base",
   "language": "python",
   "name": "python3"
  },
  "language_info": {
   "codemirror_mode": {
    "name": "ipython",
    "version": 3
   },
   "file_extension": ".py",
   "mimetype": "text/x-python",
   "name": "python",
   "nbconvert_exporter": "python",
   "pygments_lexer": "ipython3",
   "version": "3.11.7"
  }
 },
 "nbformat": 4,
 "nbformat_minor": 2
}
